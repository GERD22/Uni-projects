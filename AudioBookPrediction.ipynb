{
 "cells": [
  {
   "cell_type": "markdown",
   "metadata": {},
   "source": [
    "# Create a machine learning algorithm to predict if a customer will buy again or not using an audiobook app"
   ]
  },
  {
   "cell_type": "markdown",
   "metadata": {},
   "source": [
    "How are we going through this real world problem:<br>\n",
    "-1Preprocess data:<br> balance dataset<br>divide dataset into training<br> validation and test <br> Save data into tensorflow dataformat (.npz)<br>\n",
    "-2.Creating a class that handles batching<br>\n",
    "-3. Create ML algorithm"
   ]
  },
  {
   "cell_type": "markdown",
   "metadata": {},
   "source": [
    "In this case in our dataset to balance it we have  to look up at our target, we have to count the total number of target 1 and matching the same number of 0-s to them"
   ]
  },
  {
   "cell_type": "markdown",
   "metadata": {},
   "source": [
    "# Extract the data from CSV"
   ]
  },
  {
   "cell_type": "code",
   "execution_count": 81,
   "metadata": {},
   "outputs": [],
   "source": [
    "import numpy as np\n",
    "from sklearn import preprocessing\n",
    "raw_csv_data=np.loadtxt(\"Audiobooks_data.csv\",delimiter=\",\")\n",
    "unscaled_input_all=raw_csv_data[:,1:-1]\n",
    "targets_all=raw_csv_data[:,-1]"
   ]
  },
  {
   "cell_type": "markdown",
   "metadata": {},
   "source": [
    "# Balance the dataset"
   ]
  },
  {
   "cell_type": "code",
   "execution_count": 82,
   "metadata": {},
   "outputs": [],
   "source": [
    "num_one_target=int(np.sum(targets_all))\n",
    "#Initialize zero counter target\n",
    "zero_target_counter=0\n",
    "indices_to_remove=[]\n",
    "for i in range(targets_all.shape[0]):\n",
    "    if targets_all[i]==0:\n",
    "        zero_target_counter+=1\n",
    "        if zero_target_counter>num_one_target:\n",
    "            indices_to_remove.append(i)\n",
    "            \n",
    "unscaled_inputs_equal_priors=np.delete(unscaled_input_all,indices_to_remove,axis=0)\n",
    "target_equal_priors=np.delete(targets_all,indices_to_remove,axis=0)\n"
   ]
  },
  {
   "cell_type": "markdown",
   "metadata": {},
   "source": [
    "# Standardize the inputs"
   ]
  },
  {
   "cell_type": "code",
   "execution_count": 83,
   "metadata": {},
   "outputs": [],
   "source": [
    "scaled_inputs=preprocessing.scale(unscaled_inputs_equal_priors)\n"
   ]
  },
  {
   "cell_type": "markdown",
   "metadata": {},
   "source": [
    "# Shuffle the data"
   ]
  },
  {
   "cell_type": "code",
   "execution_count": 84,
   "metadata": {},
   "outputs": [],
   "source": [
    "#keeping same information but in different order because later on we will do batching\n",
    "shuffled_indices=np.arange(scaled_inputs.shape[0])\n",
    "np.random.shuffle(shuffled_indices) #indixes\n",
    "shuffled_inputs=scaled_inputs[shuffled_indices]\n",
    "shuffled_targets=target_equal_priors[shuffled_indices]\n"
   ]
  },
  {
   "cell_type": "markdown",
   "metadata": {},
   "source": [
    "# Split the dataset into train, validation and test"
   ]
  },
  {
   "cell_type": "code",
   "execution_count": 85,
   "metadata": {},
   "outputs": [
    {
     "name": "stdout",
     "output_type": "stream",
     "text": [
      "4474\n"
     ]
    }
   ],
   "source": [
    "samples_count=shuffled_inputs.shape[0]\n",
    "print(samples_count)"
   ]
  },
  {
   "cell_type": "code",
   "execution_count": 86,
   "metadata": {},
   "outputs": [
    {
     "name": "stdout",
     "output_type": "stream",
     "text": [
      "3579\n"
     ]
    }
   ],
   "source": [
    "#We are using 80-10-10 split\n",
    "train_samples_count=int(0.8* samples_count)\n",
    "print(train_samples_count)"
   ]
  },
  {
   "cell_type": "code",
   "execution_count": 87,
   "metadata": {},
   "outputs": [
    {
     "name": "stdout",
     "output_type": "stream",
     "text": [
      "447\n"
     ]
    }
   ],
   "source": [
    "validatio_samples_count=int(0.1* samples_count)\n",
    "print(validatio_samples_count)"
   ]
  },
  {
   "cell_type": "code",
   "execution_count": 88,
   "metadata": {},
   "outputs": [
    {
     "name": "stdout",
     "output_type": "stream",
     "text": [
      "448\n"
     ]
    }
   ],
   "source": [
    "test_samples_count=samples_count-train_samples_count-validatio_samples_count\n",
    "print(test_samples_count)"
   ]
  },
  {
   "cell_type": "code",
   "execution_count": 89,
   "metadata": {},
   "outputs": [
    {
     "name": "stdout",
     "output_type": "stream",
     "text": [
      "1804.0 3579 0.5040514110086617\n",
      "209.0 447 0.46756152125279643\n",
      "224.0 448 0.5\n"
     ]
    }
   ],
   "source": [
    "#Above we have dicided the dimensions, now let exract them from the big dataset\n",
    "train_inputs=shuffled_inputs[:train_samples_count]\n",
    "train_targets=shuffled_targets[:train_samples_count]\n",
    "\n",
    "validation_input=shuffled_inputs[train_samples_count: train_samples_count+validatio_samples_count]\n",
    "validation_target=shuffled_targets[train_samples_count:train_samples_count+validatio_samples_count]\n",
    "\n",
    "test_input=shuffled_inputs[train_samples_count+validatio_samples_count:]\n",
    "test_target=shuffled_targets[train_samples_count+validatio_samples_count:]\n",
    "\n",
    "#Let check if dataset balanced\n",
    "print(np.sum(train_targets),train_samples_count,np.sum(train_targets)/train_samples_count)\n",
    "print(np.sum(validation_target),validatio_samples_count,np.sum(validation_target)/validatio_samples_count)\n",
    "print(np.sum(test_target),test_samples_count,np.sum(test_target)/test_samples_count)"
   ]
  },
  {
   "cell_type": "markdown",
   "metadata": {},
   "source": [
    "# Save three datasets in npz"
   ]
  },
  {
   "cell_type": "code",
   "execution_count": 90,
   "metadata": {},
   "outputs": [],
   "source": [
    "np.savez(\"Audiobook_data_train\", inputs=train_inputs,targets=train_targets)\n",
    "np.savez(\"Audiobook_data_validation\",inputs=validation_input,targets=validation_target)\n",
    "np.savez(\"Audiobook_data_test\",inputs=test_input,targets=test_target)"
   ]
  },
  {
   "cell_type": "markdown",
   "metadata": {},
   "source": [
    "# Create methods that will batch the data "
   ]
  },
  {
   "cell_type": "code",
   "execution_count": 91,
   "metadata": {},
   "outputs": [],
   "source": [
    "#We can use a iterator where data is an instance of a class, the oepration we want the loop to perform\n",
    "class AudioBooks_Data_Reader():\n",
    "    #If you do not put input it will automatically take none\n",
    "    #The init method loads the data from .npz\n",
    "    def __init__(self,dataset,batch_size=None):\n",
    "        npz=np.load(\"AudioBook_data_{0}.npz\".format(dataset))\n",
    "        \n",
    "        #Two variables for input and target\n",
    "        self.inputs,self.targets= npz['inputs'].astype(np.float),npz['targets'].astype(np.int)\n",
    "        \n",
    "        #Count the batch size\n",
    "        #If batchsize is none we are either validating or testing so we want all data in a single batch\n",
    "        if batch_size is None:\n",
    "            self.batch_size=self.inputs.shape[0]\n",
    "        else:\n",
    "            self.batch_size=batch_size\n",
    "        self.curr_batch=0\n",
    "        self.batch_count=self.inputs.shape[0]//self.batch_size\n",
    "    #A method which loads the next batch\n",
    "    def __next__(self):\n",
    "        if self.curr_batch >= self.batch_count:\n",
    "            self.curr_batch = 0\n",
    "            raise StopIteration()\n",
    "            \n",
    "        # You slice the dataset in batches and then the \"next\" function loads them one after the other\n",
    "        batch_slice = slice(self.curr_batch * self.batch_size, (self.curr_batch + 1) * self.batch_size)\n",
    "        inputs_batch = self.inputs[batch_slice]\n",
    "        targets_batch = self.targets[batch_slice]\n",
    "        self.curr_batch += 1\n",
    "        \n",
    "        # One-hot encode the targets. In this example it's a bit superfluous since we have a 0/1 column \n",
    "        # as a target already but we're giving you the code regardless, as it will be useful for any \n",
    "        # classification task with more than one target column\n",
    "        classes_num = 2\n",
    "        targets_one_hot = np.zeros((targets_batch.shape[0], classes_num))\n",
    "        targets_one_hot[range(targets_batch.shape[0]), targets_batch] = 1\n",
    "        \n",
    "        # The function will return the inputs batch and the one-hot encoded targets\n",
    "        return inputs_batch, targets_one_hot\n",
    "        \n",
    "    # A method needed for iterating over the batches, as we will put them in a loop\n",
    "    # This tells Python that the class we're defining is iterable, i.e. that we can use it like:\n",
    "    # for input, output in data: \n",
    "        # do things\n",
    "    # An iterator in Python is a class with a method __next__ that defines exactly how to iterate through its objects\n",
    "    def __iter__(self):\n",
    "        return self\n",
    "        \n",
    "        \n",
    "            \n",
    "        \n",
    "    \n",
    "    \n",
    "    "
   ]
  },
  {
   "cell_type": "markdown",
   "metadata": {},
   "source": [
    "# Create the machine learning algorithm"
   ]
  },
  {
   "cell_type": "code",
   "execution_count": 92,
   "metadata": {},
   "outputs": [
    {
     "name": "stderr",
     "output_type": "stream",
     "text": [
      "C:\\Users\\perdorues\\Anaconda3\\lib\\site-packages\\tensorflow\\python\\client\\session.py:1702: UserWarning: An interactive session is already active. This can cause out-of-memory errors in some cases. You must explicitly call `InteractiveSession.close()` to release resources held by the other session(s).\n",
      "  warnings.warn('An interactive session is already active. This can '\n"
     ]
    },
    {
     "name": "stdout",
     "output_type": "stream",
     "text": [
      "Epoch 1. Training loss: 0.652. Validation loss: 0.508. Validation accuracy: 71.81%\n",
      "Epoch 2. Training loss: 0.500. Validation loss: 0.431. Validation accuracy: 76.51%\n",
      "Epoch 3. Training loss: 0.442. Validation loss: 0.386. Validation accuracy: 78.30%\n",
      "Epoch 4. Training loss: 0.409. Validation loss: 0.359. Validation accuracy: 79.64%\n",
      "Epoch 5. Training loss: 0.389. Validation loss: 0.344. Validation accuracy: 80.76%\n",
      "Epoch 6. Training loss: 0.376. Validation loss: 0.335. Validation accuracy: 81.43%\n",
      "Epoch 7. Training loss: 0.367. Validation loss: 0.329. Validation accuracy: 81.21%\n",
      "Epoch 8. Training loss: 0.361. Validation loss: 0.324. Validation accuracy: 80.76%\n",
      "Epoch 9. Training loss: 0.356. Validation loss: 0.321. Validation accuracy: 80.98%\n",
      "Epoch 10. Training loss: 0.352. Validation loss: 0.317. Validation accuracy: 80.76%\n",
      "Epoch 11. Training loss: 0.348. Validation loss: 0.315. Validation accuracy: 81.21%\n",
      "Epoch 12. Training loss: 0.345. Validation loss: 0.313. Validation accuracy: 81.66%\n",
      "Epoch 13. Training loss: 0.342. Validation loss: 0.311. Validation accuracy: 81.66%\n",
      "Epoch 14. Training loss: 0.340. Validation loss: 0.310. Validation accuracy: 81.43%\n",
      "Epoch 15. Training loss: 0.338. Validation loss: 0.308. Validation accuracy: 81.66%\n",
      "Epoch 16. Training loss: 0.336. Validation loss: 0.307. Validation accuracy: 82.10%\n",
      "Epoch 17. Training loss: 0.335. Validation loss: 0.306. Validation accuracy: 81.88%\n",
      "Epoch 18. Training loss: 0.333. Validation loss: 0.305. Validation accuracy: 82.33%\n",
      "Epoch 19. Training loss: 0.332. Validation loss: 0.304. Validation accuracy: 82.77%\n",
      "Epoch 20. Training loss: 0.331. Validation loss: 0.303. Validation accuracy: 83.00%\n",
      "Epoch 21. Training loss: 0.330. Validation loss: 0.302. Validation accuracy: 83.22%\n",
      "Epoch 22. Training loss: 0.329. Validation loss: 0.301. Validation accuracy: 83.22%\n",
      "Epoch 23. Training loss: 0.328. Validation loss: 0.301. Validation accuracy: 83.22%\n",
      "Epoch 24. Training loss: 0.327. Validation loss: 0.301. Validation accuracy: 83.22%\n",
      "Epoch 25. Training loss: 0.326. Validation loss: 0.300. Validation accuracy: 83.00%\n",
      "Epoch 26. Training loss: 0.326. Validation loss: 0.299. Validation accuracy: 83.22%\n",
      "Epoch 27. Training loss: 0.325. Validation loss: 0.299. Validation accuracy: 83.00%\n",
      "Epoch 28. Training loss: 0.324. Validation loss: 0.299. Validation accuracy: 83.22%\n",
      "Epoch 29. Training loss: 0.324. Validation loss: 0.298. Validation accuracy: 83.45%\n",
      "Epoch 30. Training loss: 0.323. Validation loss: 0.298. Validation accuracy: 83.22%\n",
      "Epoch 31. Training loss: 0.323. Validation loss: 0.297. Validation accuracy: 83.22%\n",
      "Epoch 32. Training loss: 0.322. Validation loss: 0.297. Validation accuracy: 83.22%\n",
      "Epoch 33. Training loss: 0.321. Validation loss: 0.296. Validation accuracy: 83.22%\n",
      "Epoch 34. Training loss: 0.321. Validation loss: 0.296. Validation accuracy: 83.00%\n",
      "Epoch 35. Training loss: 0.321. Validation loss: 0.295. Validation accuracy: 83.00%\n",
      "Epoch 36. Training loss: 0.320. Validation loss: 0.295. Validation accuracy: 83.22%\n",
      "Epoch 37. Training loss: 0.320. Validation loss: 0.295. Validation accuracy: 83.22%\n",
      "Epoch 38. Training loss: 0.319. Validation loss: 0.294. Validation accuracy: 83.67%\n",
      "Epoch 39. Training loss: 0.319. Validation loss: 0.294. Validation accuracy: 83.67%\n",
      "Epoch 40. Training loss: 0.319. Validation loss: 0.294. Validation accuracy: 83.67%\n",
      "Epoch 41. Training loss: 0.318. Validation loss: 0.294. Validation accuracy: 83.67%\n",
      "Epoch 42. Training loss: 0.318. Validation loss: 0.293. Validation accuracy: 83.67%\n",
      "Epoch 43. Training loss: 0.318. Validation loss: 0.293. Validation accuracy: 83.67%\n",
      "Epoch 44. Training loss: 0.317. Validation loss: 0.293. Validation accuracy: 83.45%\n",
      "Epoch 45. Training loss: 0.317. Validation loss: 0.293. Validation accuracy: 83.67%\n",
      "Epoch 46. Training loss: 0.317. Validation loss: 0.293. Validation accuracy: 83.67%\n",
      "Epoch 47. Training loss: 0.316. Validation loss: 0.292. Validation accuracy: 83.67%\n",
      "Epoch 48. Training loss: 0.316. Validation loss: 0.292. Validation accuracy: 83.67%\n",
      "Epoch 49. Training loss: 0.316. Validation loss: 0.292. Validation accuracy: 83.45%\n",
      "Epoch 50. Training loss: 0.316. Validation loss: 0.292. Validation accuracy: 83.67%\n",
      "End of training.\n"
     ]
    }
   ],
   "source": [
    "import tensorflow as tf\n",
    "\n",
    "input_size = 10\n",
    "output_size = 2\n",
    "hidden_layer_size = 50\n",
    "\n",
    "tf.reset_default_graph()\n",
    "\n",
    "inputs = tf.placeholder(tf.float32, [None, input_size])\n",
    "targets = tf.placeholder(tf.int32, [None, output_size])\n",
    "\n",
    "weights_1 = tf.get_variable(\"weights_1\", [input_size, hidden_layer_size])\n",
    "biases_1 = tf.get_variable(\"biases_1\", [hidden_layer_size])\n",
    "\n",
    "outputs_1 = tf.nn.relu(tf.matmul(inputs,weights_1) + biases_1)\n",
    "\n",
    "\n",
    "weights_2 = tf.get_variable(\"weights_2\", [hidden_layer_size, hidden_layer_size])\n",
    "biases_2 = tf.get_variable(\"biases_2\",[hidden_layer_size])\n",
    "\n",
    "outputs_2 = tf.nn.relu(tf.matmul(outputs_1,weights_2) + biases_2)\n",
    "\n",
    "\n",
    "weights_3 = tf.get_variable(\"weights_3\", [hidden_layer_size, output_size])\n",
    "biases_3 = tf.get_variable(\"biases_3\", [output_size])\n",
    "\n",
    "outputs = tf.matmul(outputs_2, weights_3) + biases_3\n",
    "\n",
    "\n",
    "loss = tf.nn.softmax_cross_entropy_with_logits(logits = outputs, labels = targets)\n",
    "\n",
    "mean_loss = tf.reduce_mean(loss)\n",
    "\n",
    "optimize = tf.train.AdamOptimizer(learning_rate=0.001).minimize(mean_loss)\n",
    "\n",
    "out_equals_target = tf.equal(tf.argmax(outputs,1), tf.argmax(targets,1))\n",
    "\n",
    "accuracy = tf.reduce_mean(tf.cast(out_equals_target, tf.float32))\n",
    "\n",
    "\n",
    "sess = tf.InteractiveSession()\n",
    "\n",
    "initializer = tf.global_variables_initializer()\n",
    "\n",
    "sess.run(initializer)\n",
    "\n",
    "\n",
    "batch_size = 100\n",
    "\n",
    "max_epochs = 50\n",
    "\n",
    "prev_validation_loss = 9999999.\n",
    "\n",
    "train_data = AudioBooks_Data_Reader('train', batch_size)\n",
    "validation_data =AudioBooks_Data_Reader ('validation')\n",
    "\n",
    "for epoch_counter in range(max_epochs):\n",
    "    \n",
    "    curr_epoch_loss = 0.\n",
    "    \n",
    "    for input_batch, target_batch in train_data:\n",
    "        _, batch_loss = sess.run([optimize, mean_loss], \n",
    "            feed_dict={inputs: input_batch, targets: target_batch})\n",
    "        \n",
    "        curr_epoch_loss += batch_loss\n",
    "        \n",
    "    curr_epoch_loss /= train_data.batch_count\n",
    "    \n",
    "    validation_loss = 0.\n",
    "    validation_accuracy = 0.\n",
    "    \n",
    "    for input_batch, target_batch in validation_data:\n",
    "        validation_loss, validation_accuracy = sess.run([mean_loss, accuracy], \n",
    "        feed_dict={inputs: input_batch, targets: target_batch})   \n",
    "        \n",
    "    print('Epoch '+str(epoch_counter+1)+\n",
    "          '. Training loss: '+'{0:.3f}'.format(curr_epoch_loss)+\n",
    "          '. Validation loss: '+'{0:.3f}'.format(validation_loss)+\n",
    "          '. Validation accuracy: '+'{0:.2f}'.format(validation_accuracy * 100.)+'%')\n",
    "    \n",
    "    if validation_loss > prev_validation_loss:\n",
    "        break\n",
    "        \n",
    "    prev_validation_loss = validation_loss\n",
    "    \n",
    "print('End of training.')"
   ]
  },
  {
   "cell_type": "markdown",
   "metadata": {},
   "source": [
    "# Test the model"
   ]
  },
  {
   "cell_type": "code",
   "execution_count": 93,
   "metadata": {},
   "outputs": [
    {
     "name": "stdout",
     "output_type": "stream",
     "text": [
      "Test accuracy: 81.03%\n"
     ]
    }
   ],
   "source": [
    "#creating instance of class that batches the data, but for testing we will have one single iteration\n",
    "test_data=AudioBooks_Data_Reader('test')\n",
    "for input_batch, target_batch in test_data:\n",
    "         test_accuracy = sess.run([ accuracy], #list\n",
    "        feed_dict={inputs: input_batch, targets: target_batch}) \n",
    "        \n",
    "test_accuracy_percent=  test_accuracy[0] *100      \n",
    "\n",
    "print('Test accuracy: '+'{0:.2f}'.format(test_accuracy_percent )+'%')"
   ]
  }
 ],
 "metadata": {
  "kernelspec": {
   "display_name": "Python 3",
   "language": "python",
   "name": "python3"
  },
  "language_info": {
   "codemirror_mode": {
    "name": "ipython",
    "version": 3
   },
   "file_extension": ".py",
   "mimetype": "text/x-python",
   "name": "python",
   "nbconvert_exporter": "python",
   "pygments_lexer": "ipython3",
   "version": "3.6.8"
  }
 },
 "nbformat": 4,
 "nbformat_minor": 2
}
