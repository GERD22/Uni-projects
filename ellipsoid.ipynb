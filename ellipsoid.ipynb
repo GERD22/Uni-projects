{
 "cells": [
  {
   "cell_type": "code",
   "execution_count": 2,
   "metadata": {},
   "outputs": [
    {
     "name": "stdout",
     "output_type": "stream",
     "text": [
      "[0, 0]\n",
      "x [[0.33333333 0.66666667]]\n",
      "x [[0.55555556 1.11111111]]\n",
      "x [[1.21297801 0.57695537]]\n",
      "x [[0.61221134 0.83674636]]\n",
      "x [[0.67805496 0.9684336 ]]\n",
      "x [[0.26104536 1.12206872]]\n",
      "x [[0.53435421 0.9591346 ]]\n",
      "Tolerance reached\n",
      "x [[0.55386343 0.99815304]]\n",
      "Tolerance reached\n",
      "x [[0.32765365 1.10097566]]\n",
      "Tolerance reached\n",
      "x [[0.4781299  1.02103516]]\n",
      "Tolerance reached\n"
     ]
    },
    {
     "name": "stderr",
     "output_type": "stream",
     "text": [
      "C:\\Users\\perdorues\\Anaconda3\\lib\\site-packages\\ipykernel_launcher.py:12: RuntimeWarning: invalid value encountered in arccos\n",
      "  if sys.path[0] == '':\n"
     ]
    },
    {
     "data": {
      "image/png": "[encoded data removed]",
      "text/plain": [
       "<Figure size 432x288 with 1 Axes>"
      ]
     },
     "metadata": {},
     "output_type": "display_data"
    },
    {
     "name": "stdout",
     "output_type": "stream",
     "text": [
      "x 0.4781298953504046 1.0210351618502864 [array([[0.33333333, 0.66666667]]), array([[0.55555556, 1.11111111]]), array([[1.21297801, 0.57695537]]), array([[0.61221134, 0.83674636]]), array([[0.67805496, 0.9684336 ]]), array([[0.26104536, 1.12206872]]), array([[0.53435421, 0.9591346 ]]), array([[0.55386343, 0.99815304]]), array([[0.32765365, 1.10097566]]), array([[0.4781299 , 1.02103516]])]\n"
     ]
    }
   ],
   "source": [
    "import numpy as np\n",
    "from matplotlib import pyplot as plt\n",
    "from math import pi, cos, sin\n",
    "\n",
    "def plot_ellipse(xc,P):\n",
    "    #P = np.linalg.inv(P)\n",
    "    eigenW, eigenV = np.linalg.eig(P)\n",
    "    random = np.matrix([[1, 0]])\n",
    "    vektorResult = np.dot(P, np.transpose(random))\n",
    "    helpFaktor = np.linalg.norm(vektorResult) * np.linalg.norm(random)\n",
    "    rad = np.radians((np.dot(random, vektorResult) * helpFaktor)[0, 0])\n",
    "    rotate = np.arccos(rad)\n",
    "    c, s = np.cos(rotate), np.sin(rotate)\n",
    "    R = np.array(((c, -s), (s, c)))\n",
    "    #a = (R * eigenV[0])[0, 0]\n",
    "    #b = (R * eigenV[1])[0, 1]\n",
    "    b = eigenW[0]\n",
    "    a = eigenW[1]\n",
    "    u,v = xc\n",
    "    t = np.linspace(0, 2*pi, 100)\n",
    "    Ell = np.array([a*np.cos(t) , b*np.sin(t)])\n",
    "         #u,v removed to keep the same center location\n",
    "         #2-D rotation matrix\n",
    "\n",
    "    Ell_rot = np.zeros((2,Ell.shape[1]))\n",
    "    for i in range(Ell.shape[1]):\n",
    "        Ell_rot[:,i] = np.dot(R,Ell[:,i])\n",
    "\n",
    "    # plt.plot( u+Ell[0,:] , v+Ell[1,:] )     #initial ellipse\n",
    "    plt.plot( u+Ell_rot[0,:] , v+Ell_rot[1,:],'black',':' )    #rotated ellipse\n",
    "    plt.grid(color='red',linestyle=':')\n",
    "    #plt.hold(True)\n",
    "\n",
    "def inside(x,A,b):\n",
    "    x = np.dot(A,np.transpose(x))\n",
    "    for i in range(np.shape(x)[0]):\n",
    "        if x[i]> b[i]:\n",
    "            return False\n",
    "    return True\n",
    "\n",
    "def finished(x,A,b):\n",
    "    x = np.dot(A, np.transpose(x))\n",
    "    for i in range(np.shape(x)[0]):\n",
    "        if x[i] == b[i]:\n",
    "            print(\"finished\")\n",
    "            return True\n",
    "    return False\n",
    "A = np.array([[-1,0],[0,-1],[1,0],[0,1],[1,1]])\n",
    "b = np.array([[0,0,1,1,1.5]])\n",
    "b = np.reshape(b,(5,1))\n",
    "c = np.array([[-1,-2]])\n",
    "c = np.reshape(c,(2,1))\n",
    "x = np.array([[0,0]])\n",
    "x = np.reshape(x,(2,1))\n",
    "\n",
    "P = np.array([[5,0],[0,5]])\n",
    "x = (0,0)\n",
    "\n",
    "constraint1 = [0 for i in range(2)]\n",
    "print(constraint1)\n",
    "plt.plot([0,0,0,0,0,0,0,0,0],[-4,-3,-2,-1,0,1,2,3,4],'.-',lw='0.2' )    #rotated ellipse\n",
    "plt.plot([-4,-3,-2,-1,0,1,2,3,4],[0,0,0,0,0,0,0,0,0],'.-',lw='0.2' )\n",
    "plt.plot([-4,-3,-2,-1,0,1,2,3,4],[1,1,1,1,1,1,1,1,1],'.-',lw='0.2' )\n",
    "plt.plot([1,1,1,1,1,1,1,1,1],[-4,-3,-2,-1,0,1,2,3,4],'.-',lw='0.2' )\n",
    "plt.plot([1,1,1,1,1,1,1,1,1],[-4,-3,-2,-1,0,1,2,3,4],'.-',lw='0.2' )\n",
    "plt.plot([1,0.5],[0.5,1],'.-',lw='0.2' )\n",
    "\n",
    "plt.plot([0, 0, 0.5, 1, 1, 0], [0, 1, 1, 0.5, 0, 0], color='red',lw='3')\n",
    "#plt.plot([0 for i in range(10000)] )    #rotated ellipse\n",
    "#plt.grid(color='lightgray',linestyle='--')\n",
    "#plt.hold(True)\n",
    "#plt.show()\n",
    "my_xs = []\n",
    "for i in range(10):\n",
    "    w = 0\n",
    "    if inside(x,A,b):\n",
    "        w = c\n",
    "    else:\n",
    "        for i in range(5):\n",
    "            result = np.dot(A[i],np.transpose(x))\n",
    "            if result>b[i] :\n",
    "                w = A[i]\n",
    "                break\n",
    "    help = np.dot(np.transpose(w), P)\n",
    "    help = np.dot(help, w)\n",
    "    faktor = 1 / (2 + 1)\n",
    "    multi = np.dot(P, w) / np.sqrt(help)\n",
    "    multi = np.reshape(multi, (1, 2))\n",
    "    x = x - faktor * multi\n",
    "    print(\"x\",x)\n",
    "    my_xs.append(x)\n",
    "    #print(\"P\",P)\n",
    "    faktorMatrix = 4 / (3)\n",
    "    term = np.dot(np.transpose(w), P)\n",
    "    termUpper = np.dot(w, term)\n",
    "    termUpper = np.dot(P, termUpper)\n",
    "    termLower = np.dot(term, w)\n",
    "    P = faktorMatrix * (P - 2 / 3 * termUpper / termLower)\n",
    "    if finished(x,A,b) :\n",
    "        break;\n",
    "    plot_ellipse((x[0, 0], x[0, 1]), P)\n",
    "    plt.plot(x[0, 0], x[0, 1],'y*',ms=15)\n",
    "    \n",
    "    if len(my_xs) >= 7:\n",
    "        if np.linalg.norm(my_xs[-1]-my_xs[-2]) >= 0.0017:\n",
    "            print('Tolerance reached')\n",
    "\n",
    "plt.show()\n",
    "print(\"x\", x[0, 0], x[0, 1],my_xs)"
   ]
  },
  {
   "cell_type": "code",
   "execution_count": null,
   "metadata": {},
   "outputs": [],
   "source": []
  }
 ],
 "metadata": {
  "kernelspec": {
   "display_name": "Python 3",
   "language": "python",
   "name": "python3"
  },
  "language_info": {
   "codemirror_mode": {
    "name": "ipython",
    "version": 3
   },
   "file_extension": ".py",
   "mimetype": "text/x-python",
   "name": "python",
   "nbconvert_exporter": "python",
   "pygments_lexer": "ipython3",
   "version": "3.6.5"
  }
 },
 "nbformat": 4,
 "nbformat_minor": 2
}
